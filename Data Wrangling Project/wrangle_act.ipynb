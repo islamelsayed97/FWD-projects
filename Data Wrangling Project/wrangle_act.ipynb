{
 "cells": [
  {
   "cell_type": "markdown",
   "metadata": {},
   "source": [
    "### (1) Gathering data"
   ]
  },
  {
   "cell_type": "code",
   "execution_count": 1,
   "metadata": {},
   "outputs": [],
   "source": [
    "import pandas as pd\n",
    "import numpy as np\n",
    "import requests\n",
    "import io\n",
    "import json\n",
    "import re\n",
    "import os\n",
    "import matplotlib.pyplot as plt\n",
    "%matplotlib inline\n",
    "from PIL import Image\n",
    "from io import BytesIO"
   ]
  },
  {
   "cell_type": "code",
   "execution_count": 2,
   "metadata": {},
   "outputs": [],
   "source": [
    "twitter_archive = pd.read_csv('twitter-archive-enhanced.csv')"
   ]
  },
  {
   "cell_type": "code",
   "execution_count": 3,
   "metadata": {},
   "outputs": [],
   "source": [
    "url = 'https://d17h27t6h515a5.cloudfront.net/topher/2017/August/599fd2ad_image-predictions/image-predictions.tsv'\n",
    "file_name = 'image_predictions.tsv'\n",
    "if not os.path.exists(file_name):\n",
    "    urlData = requests.get(url).content\n",
    "    with open(file_name, mode='wb') as file:\n",
    "        file.write(urlData)\n",
    "image_predictions = pd.read_csv('image_predictions.tsv', sep='\\t')"
   ]
  },
  {
   "cell_type": "code",
   "execution_count": 4,
   "metadata": {},
   "outputs": [
    {
     "name": "stdout",
     "output_type": "stream",
     "text": [
      "import tweepy\n",
      "\n",
      "from tweepy import OAuthHandler\n",
      "\n",
      "import json\n",
      "\n",
      "from timeit import default_timer as timer\n",
      "\n",
      "\n",
      "\n",
      "# Query Twitter API for each tweet in the Twitter archive and save JSON in a text file\n",
      "\n",
      "# These are hidden to comply with Twitter's API terms and conditions\n",
      "\n",
      "consumer_key = 'HIDDEN'\n",
      "\n",
      "consumer_secret = 'HIDDEN'\n",
      "\n",
      "access_token = 'HIDDEN'\n",
      "\n",
      "access_secret = 'HIDDEN'\n",
      "\n",
      "\n",
      "\n",
      "auth = OAuthHandler(consumer_key, consumer_secret)\n",
      "\n",
      "auth.set_access_token(access_token, access_secret)\n",
      "\n",
      "\n",
      "\n",
      "api = tweepy.API(auth, wait_on_rate_limit=True)\n",
      "\n",
      "\n",
      "\n",
      "# NOTE TO STUDENT WITH MOBILE VERIFICATION ISSUES:\n",
      "\n",
      "# df_1 is a DataFrame with the twitter_archive_enhanced.csv file. You may have to\n",
      "\n",
      "# change line 17 to match the name of your DataFrame with twitter_archive_enhanced.csv\n",
      "\n",
      "# NOTE TO REVIEWER: this student had mobile verification issues so the following\n",
      "\n",
      "# Twitter API code was sent to this student from a Udacity instructor\n",
      "\n",
      "# Tweet IDs for which to gather additional data via Twitter's API\n",
      "\n",
      "tweet_ids = df_1.tweet_id.values\n",
      "\n",
      "len(tweet_ids)\n",
      "\n",
      "\n",
      "\n",
      "# Query Twitter's API for JSON data for each tweet ID in the Twitter archive\n",
      "\n",
      "count = 0\n",
      "\n",
      "fails_dict = {}\n",
      "\n",
      "start = timer()\n",
      "\n",
      "# Save each tweet's returned JSON as a new line in a .txt file\n",
      "\n",
      "with open('tweet_json.txt', 'w') as outfile:\n",
      "\n",
      "    # This loop will likely take 20-30 minutes to run because of Twitter's rate limit\n",
      "\n",
      "    for tweet_id in tweet_ids:\n",
      "\n",
      "        count += 1\n",
      "\n",
      "        print(str(count) + \": \" + str(tweet_id))\n",
      "\n",
      "        try:\n",
      "\n",
      "            tweet = api.get_status(tweet_id, tweet_mode='extended')\n",
      "\n",
      "            print(\"Success\")\n",
      "\n",
      "            json.dump(tweet._json, outfile)\n",
      "\n",
      "            outfile.write('\\n')\n",
      "\n",
      "        except tweepy.TweepError as e:\n",
      "\n",
      "            print(\"Fail\")\n",
      "\n",
      "            fails_dict[tweet_id] = e\n",
      "\n",
      "            pass\n",
      "\n",
      "end = timer()\n",
      "\n",
      "print(end - start)\n",
      "\n",
      "print(fails_dict)\n",
      "\n"
     ]
    }
   ],
   "source": [
    "# read twitter_api.py file to understand the code\n",
    "with open('twitter_api.py') as f:\n",
    "    twitter_api = f.readlines()\n",
    "for line in twitter_api:\n",
    "    print(line)"
   ]
  },
  {
   "cell_type": "code",
   "execution_count": 5,
   "metadata": {},
   "outputs": [],
   "source": [
    "with open('tweet.json', 'r') as json_file:\n",
    "    file = '[' + json_file.read().replace('}\\n{', '},\\n{') + ']'\n",
    "    tweet_json = json.loads(file)\n",
    "tweet_info = pd.DataFrame(tweet_json)"
   ]
  },
  {
   "cell_type": "markdown",
   "metadata": {},
   "source": [
    "### (2) Assess"
   ]
  },
  {
   "cell_type": "code",
   "execution_count": 6,
   "metadata": {},
   "outputs": [
    {
     "data": {
      "text/html": [
       "<div>\n",
       "<style scoped>\n",
       "    .dataframe tbody tr th:only-of-type {\n",
       "        vertical-align: middle;\n",
       "    }\n",
       "\n",
       "    .dataframe tbody tr th {\n",
       "        vertical-align: top;\n",
       "    }\n",
       "\n",
       "    .dataframe thead th {\n",
       "        text-align: right;\n",
       "    }\n",
       "</style>\n",
       "<table border=\"1\" class=\"dataframe\">\n",
       "  <thead>\n",
       "    <tr style=\"text-align: right;\">\n",
       "      <th></th>\n",
       "      <th>contributors</th>\n",
       "      <th>coordinates</th>\n",
       "      <th>created_at</th>\n",
       "      <th>display_text_range</th>\n",
       "      <th>entities</th>\n",
       "      <th>extended_entities</th>\n",
       "      <th>favorite_count</th>\n",
       "      <th>favorited</th>\n",
       "      <th>full_text</th>\n",
       "      <th>geo</th>\n",
       "      <th>...</th>\n",
       "      <th>possibly_sensitive_appealable</th>\n",
       "      <th>quoted_status</th>\n",
       "      <th>quoted_status_id</th>\n",
       "      <th>quoted_status_id_str</th>\n",
       "      <th>retweet_count</th>\n",
       "      <th>retweeted</th>\n",
       "      <th>retweeted_status</th>\n",
       "      <th>source</th>\n",
       "      <th>truncated</th>\n",
       "      <th>user</th>\n",
       "    </tr>\n",
       "  </thead>\n",
       "  <tbody>\n",
       "    <tr>\n",
       "      <th>0</th>\n",
       "      <td>None</td>\n",
       "      <td>None</td>\n",
       "      <td>Tue Aug 01 16:23:56 +0000 2017</td>\n",
       "      <td>[0, 85]</td>\n",
       "      <td>{'hashtags': [], 'symbols': [], 'user_mentions...</td>\n",
       "      <td>{'media': [{'id': 892420639486877696, 'id_str'...</td>\n",
       "      <td>39467</td>\n",
       "      <td>False</td>\n",
       "      <td>This is Phineas. He's a mystical boy. Only eve...</td>\n",
       "      <td>None</td>\n",
       "      <td>...</td>\n",
       "      <td>False</td>\n",
       "      <td>NaN</td>\n",
       "      <td>NaN</td>\n",
       "      <td>NaN</td>\n",
       "      <td>8853</td>\n",
       "      <td>False</td>\n",
       "      <td>NaN</td>\n",
       "      <td>&lt;a href=\"http://twitter.com/download/iphone\" r...</td>\n",
       "      <td>False</td>\n",
       "      <td>{'id': 4196983835, 'id_str': '4196983835', 'na...</td>\n",
       "    </tr>\n",
       "    <tr>\n",
       "      <th>1</th>\n",
       "      <td>None</td>\n",
       "      <td>None</td>\n",
       "      <td>Tue Aug 01 00:17:27 +0000 2017</td>\n",
       "      <td>[0, 138]</td>\n",
       "      <td>{'hashtags': [], 'symbols': [], 'user_mentions...</td>\n",
       "      <td>{'media': [{'id': 892177413194625024, 'id_str'...</td>\n",
       "      <td>33819</td>\n",
       "      <td>False</td>\n",
       "      <td>This is Tilly. She's just checking pup on you....</td>\n",
       "      <td>None</td>\n",
       "      <td>...</td>\n",
       "      <td>False</td>\n",
       "      <td>NaN</td>\n",
       "      <td>NaN</td>\n",
       "      <td>NaN</td>\n",
       "      <td>6514</td>\n",
       "      <td>False</td>\n",
       "      <td>NaN</td>\n",
       "      <td>&lt;a href=\"http://twitter.com/download/iphone\" r...</td>\n",
       "      <td>False</td>\n",
       "      <td>{'id': 4196983835, 'id_str': '4196983835', 'na...</td>\n",
       "    </tr>\n",
       "  </tbody>\n",
       "</table>\n",
       "<p>2 rows × 31 columns</p>\n",
       "</div>"
      ],
      "text/plain": [
       "  contributors coordinates                      created_at display_text_range  \\\n",
       "0         None        None  Tue Aug 01 16:23:56 +0000 2017            [0, 85]   \n",
       "1         None        None  Tue Aug 01 00:17:27 +0000 2017           [0, 138]   \n",
       "\n",
       "                                            entities  \\\n",
       "0  {'hashtags': [], 'symbols': [], 'user_mentions...   \n",
       "1  {'hashtags': [], 'symbols': [], 'user_mentions...   \n",
       "\n",
       "                                   extended_entities  favorite_count  \\\n",
       "0  {'media': [{'id': 892420639486877696, 'id_str'...           39467   \n",
       "1  {'media': [{'id': 892177413194625024, 'id_str'...           33819   \n",
       "\n",
       "   favorited                                          full_text   geo  \\\n",
       "0      False  This is Phineas. He's a mystical boy. Only eve...  None   \n",
       "1      False  This is Tilly. She's just checking pup on you....  None   \n",
       "\n",
       "                         ...                          \\\n",
       "0                        ...                           \n",
       "1                        ...                           \n",
       "\n",
       "   possibly_sensitive_appealable quoted_status quoted_status_id  \\\n",
       "0                          False           NaN              NaN   \n",
       "1                          False           NaN              NaN   \n",
       "\n",
       "   quoted_status_id_str retweet_count  retweeted retweeted_status  \\\n",
       "0                   NaN          8853      False              NaN   \n",
       "1                   NaN          6514      False              NaN   \n",
       "\n",
       "                                              source truncated  \\\n",
       "0  <a href=\"http://twitter.com/download/iphone\" r...     False   \n",
       "1  <a href=\"http://twitter.com/download/iphone\" r...     False   \n",
       "\n",
       "                                                user  \n",
       "0  {'id': 4196983835, 'id_str': '4196983835', 'na...  \n",
       "1  {'id': 4196983835, 'id_str': '4196983835', 'na...  \n",
       "\n",
       "[2 rows x 31 columns]"
      ]
     },
     "execution_count": 6,
     "metadata": {},
     "output_type": "execute_result"
    }
   ],
   "source": [
    "tweet_info.head(2)"
   ]
  },
  {
   "cell_type": "code",
   "execution_count": 7,
   "metadata": {},
   "outputs": [
    {
     "name": "stdout",
     "output_type": "stream",
     "text": [
      "<class 'pandas.core.frame.DataFrame'>\n",
      "RangeIndex: 2354 entries, 0 to 2353\n",
      "Data columns (total 31 columns):\n",
      "contributors                     0 non-null object\n",
      "coordinates                      0 non-null object\n",
      "created_at                       2354 non-null object\n",
      "display_text_range               2354 non-null object\n",
      "entities                         2354 non-null object\n",
      "extended_entities                2073 non-null object\n",
      "favorite_count                   2354 non-null int64\n",
      "favorited                        2354 non-null bool\n",
      "full_text                        2354 non-null object\n",
      "geo                              0 non-null object\n",
      "id                               2354 non-null int64\n",
      "id_str                           2354 non-null object\n",
      "in_reply_to_screen_name          78 non-null object\n",
      "in_reply_to_status_id            78 non-null float64\n",
      "in_reply_to_status_id_str        78 non-null object\n",
      "in_reply_to_user_id              78 non-null float64\n",
      "in_reply_to_user_id_str          78 non-null object\n",
      "is_quote_status                  2354 non-null bool\n",
      "lang                             2354 non-null object\n",
      "place                            1 non-null object\n",
      "possibly_sensitive               2211 non-null object\n",
      "possibly_sensitive_appealable    2211 non-null object\n",
      "quoted_status                    28 non-null object\n",
      "quoted_status_id                 29 non-null float64\n",
      "quoted_status_id_str             29 non-null object\n",
      "retweet_count                    2354 non-null int64\n",
      "retweeted                        2354 non-null bool\n",
      "retweeted_status                 179 non-null object\n",
      "source                           2354 non-null object\n",
      "truncated                        2354 non-null bool\n",
      "user                             2354 non-null object\n",
      "dtypes: bool(4), float64(3), int64(3), object(21)\n",
      "memory usage: 505.8+ KB\n"
     ]
    }
   ],
   "source": [
    "tweet_info.info()"
   ]
  },
  {
   "cell_type": "code",
   "execution_count": 8,
   "metadata": {},
   "outputs": [
    {
     "data": {
      "text/html": [
       "<div>\n",
       "<style scoped>\n",
       "    .dataframe tbody tr th:only-of-type {\n",
       "        vertical-align: middle;\n",
       "    }\n",
       "\n",
       "    .dataframe tbody tr th {\n",
       "        vertical-align: top;\n",
       "    }\n",
       "\n",
       "    .dataframe thead th {\n",
       "        text-align: right;\n",
       "    }\n",
       "</style>\n",
       "<table border=\"1\" class=\"dataframe\">\n",
       "  <thead>\n",
       "    <tr style=\"text-align: right;\">\n",
       "      <th></th>\n",
       "      <th>favorite_count</th>\n",
       "      <th>id</th>\n",
       "      <th>in_reply_to_status_id</th>\n",
       "      <th>in_reply_to_user_id</th>\n",
       "      <th>quoted_status_id</th>\n",
       "      <th>retweet_count</th>\n",
       "    </tr>\n",
       "  </thead>\n",
       "  <tbody>\n",
       "    <tr>\n",
       "      <th>count</th>\n",
       "      <td>2354.000000</td>\n",
       "      <td>2.354000e+03</td>\n",
       "      <td>7.800000e+01</td>\n",
       "      <td>7.800000e+01</td>\n",
       "      <td>2.900000e+01</td>\n",
       "      <td>2354.000000</td>\n",
       "    </tr>\n",
       "    <tr>\n",
       "      <th>mean</th>\n",
       "      <td>8080.968564</td>\n",
       "      <td>7.426978e+17</td>\n",
       "      <td>7.455079e+17</td>\n",
       "      <td>2.014171e+16</td>\n",
       "      <td>8.162686e+17</td>\n",
       "      <td>3164.797366</td>\n",
       "    </tr>\n",
       "    <tr>\n",
       "      <th>std</th>\n",
       "      <td>11814.771334</td>\n",
       "      <td>6.852812e+16</td>\n",
       "      <td>7.582492e+16</td>\n",
       "      <td>1.252797e+17</td>\n",
       "      <td>6.164161e+16</td>\n",
       "      <td>5284.770364</td>\n",
       "    </tr>\n",
       "    <tr>\n",
       "      <th>min</th>\n",
       "      <td>0.000000</td>\n",
       "      <td>6.660209e+17</td>\n",
       "      <td>6.658147e+17</td>\n",
       "      <td>1.185634e+07</td>\n",
       "      <td>6.721083e+17</td>\n",
       "      <td>0.000000</td>\n",
       "    </tr>\n",
       "    <tr>\n",
       "      <th>25%</th>\n",
       "      <td>1415.000000</td>\n",
       "      <td>6.783975e+17</td>\n",
       "      <td>6.757419e+17</td>\n",
       "      <td>3.086374e+08</td>\n",
       "      <td>7.888183e+17</td>\n",
       "      <td>624.500000</td>\n",
       "    </tr>\n",
       "    <tr>\n",
       "      <th>50%</th>\n",
       "      <td>3603.500000</td>\n",
       "      <td>7.194596e+17</td>\n",
       "      <td>7.038708e+17</td>\n",
       "      <td>4.196984e+09</td>\n",
       "      <td>8.340867e+17</td>\n",
       "      <td>1473.500000</td>\n",
       "    </tr>\n",
       "    <tr>\n",
       "      <th>75%</th>\n",
       "      <td>10122.250000</td>\n",
       "      <td>7.993058e+17</td>\n",
       "      <td>8.257804e+17</td>\n",
       "      <td>4.196984e+09</td>\n",
       "      <td>8.664587e+17</td>\n",
       "      <td>3652.000000</td>\n",
       "    </tr>\n",
       "    <tr>\n",
       "      <th>max</th>\n",
       "      <td>132810.000000</td>\n",
       "      <td>8.924206e+17</td>\n",
       "      <td>8.862664e+17</td>\n",
       "      <td>8.405479e+17</td>\n",
       "      <td>8.860534e+17</td>\n",
       "      <td>79515.000000</td>\n",
       "    </tr>\n",
       "  </tbody>\n",
       "</table>\n",
       "</div>"
      ],
      "text/plain": [
       "       favorite_count            id  in_reply_to_status_id  \\\n",
       "count     2354.000000  2.354000e+03           7.800000e+01   \n",
       "mean      8080.968564  7.426978e+17           7.455079e+17   \n",
       "std      11814.771334  6.852812e+16           7.582492e+16   \n",
       "min          0.000000  6.660209e+17           6.658147e+17   \n",
       "25%       1415.000000  6.783975e+17           6.757419e+17   \n",
       "50%       3603.500000  7.194596e+17           7.038708e+17   \n",
       "75%      10122.250000  7.993058e+17           8.257804e+17   \n",
       "max     132810.000000  8.924206e+17           8.862664e+17   \n",
       "\n",
       "       in_reply_to_user_id  quoted_status_id  retweet_count  \n",
       "count         7.800000e+01      2.900000e+01    2354.000000  \n",
       "mean          2.014171e+16      8.162686e+17    3164.797366  \n",
       "std           1.252797e+17      6.164161e+16    5284.770364  \n",
       "min           1.185634e+07      6.721083e+17       0.000000  \n",
       "25%           3.086374e+08      7.888183e+17     624.500000  \n",
       "50%           4.196984e+09      8.340867e+17    1473.500000  \n",
       "75%           4.196984e+09      8.664587e+17    3652.000000  \n",
       "max           8.405479e+17      8.860534e+17   79515.000000  "
      ]
     },
     "execution_count": 8,
     "metadata": {},
     "output_type": "execute_result"
    }
   ],
   "source": [
    "tweet_info.describe()"
   ]
  },
  {
   "cell_type": "code",
   "execution_count": 9,
   "metadata": {},
   "outputs": [
    {
     "data": {
      "text/html": [
       "<div>\n",
       "<style scoped>\n",
       "    .dataframe tbody tr th:only-of-type {\n",
       "        vertical-align: middle;\n",
       "    }\n",
       "\n",
       "    .dataframe tbody tr th {\n",
       "        vertical-align: top;\n",
       "    }\n",
       "\n",
       "    .dataframe thead th {\n",
       "        text-align: right;\n",
       "    }\n",
       "</style>\n",
       "<table border=\"1\" class=\"dataframe\">\n",
       "  <thead>\n",
       "    <tr style=\"text-align: right;\">\n",
       "      <th></th>\n",
       "      <th>tweet_id</th>\n",
       "      <th>in_reply_to_status_id</th>\n",
       "      <th>in_reply_to_user_id</th>\n",
       "      <th>timestamp</th>\n",
       "      <th>source</th>\n",
       "      <th>text</th>\n",
       "      <th>retweeted_status_id</th>\n",
       "      <th>retweeted_status_user_id</th>\n",
       "      <th>retweeted_status_timestamp</th>\n",
       "      <th>expanded_urls</th>\n",
       "      <th>rating_numerator</th>\n",
       "      <th>rating_denominator</th>\n",
       "      <th>name</th>\n",
       "      <th>doggo</th>\n",
       "      <th>floofer</th>\n",
       "      <th>pupper</th>\n",
       "      <th>puppo</th>\n",
       "    </tr>\n",
       "  </thead>\n",
       "  <tbody>\n",
       "    <tr>\n",
       "      <th>0</th>\n",
       "      <td>892420643555336193</td>\n",
       "      <td>NaN</td>\n",
       "      <td>NaN</td>\n",
       "      <td>2017-08-01 16:23:56 +0000</td>\n",
       "      <td>&lt;a href=\"http://twitter.com/download/iphone\" r...</td>\n",
       "      <td>This is Phineas. He's a mystical boy. Only eve...</td>\n",
       "      <td>NaN</td>\n",
       "      <td>NaN</td>\n",
       "      <td>NaN</td>\n",
       "      <td>https://twitter.com/dog_rates/status/892420643...</td>\n",
       "      <td>13</td>\n",
       "      <td>10</td>\n",
       "      <td>Phineas</td>\n",
       "      <td>None</td>\n",
       "      <td>None</td>\n",
       "      <td>None</td>\n",
       "      <td>None</td>\n",
       "    </tr>\n",
       "    <tr>\n",
       "      <th>1</th>\n",
       "      <td>892177421306343426</td>\n",
       "      <td>NaN</td>\n",
       "      <td>NaN</td>\n",
       "      <td>2017-08-01 00:17:27 +0000</td>\n",
       "      <td>&lt;a href=\"http://twitter.com/download/iphone\" r...</td>\n",
       "      <td>This is Tilly. She's just checking pup on you....</td>\n",
       "      <td>NaN</td>\n",
       "      <td>NaN</td>\n",
       "      <td>NaN</td>\n",
       "      <td>https://twitter.com/dog_rates/status/892177421...</td>\n",
       "      <td>13</td>\n",
       "      <td>10</td>\n",
       "      <td>Tilly</td>\n",
       "      <td>None</td>\n",
       "      <td>None</td>\n",
       "      <td>None</td>\n",
       "      <td>None</td>\n",
       "    </tr>\n",
       "    <tr>\n",
       "      <th>2</th>\n",
       "      <td>891815181378084864</td>\n",
       "      <td>NaN</td>\n",
       "      <td>NaN</td>\n",
       "      <td>2017-07-31 00:18:03 +0000</td>\n",
       "      <td>&lt;a href=\"http://twitter.com/download/iphone\" r...</td>\n",
       "      <td>This is Archie. He is a rare Norwegian Pouncin...</td>\n",
       "      <td>NaN</td>\n",
       "      <td>NaN</td>\n",
       "      <td>NaN</td>\n",
       "      <td>https://twitter.com/dog_rates/status/891815181...</td>\n",
       "      <td>12</td>\n",
       "      <td>10</td>\n",
       "      <td>Archie</td>\n",
       "      <td>None</td>\n",
       "      <td>None</td>\n",
       "      <td>None</td>\n",
       "      <td>None</td>\n",
       "    </tr>\n",
       "  </tbody>\n",
       "</table>\n",
       "</div>"
      ],
      "text/plain": [
       "             tweet_id  in_reply_to_status_id  in_reply_to_user_id  \\\n",
       "0  892420643555336193                    NaN                  NaN   \n",
       "1  892177421306343426                    NaN                  NaN   \n",
       "2  891815181378084864                    NaN                  NaN   \n",
       "\n",
       "                   timestamp  \\\n",
       "0  2017-08-01 16:23:56 +0000   \n",
       "1  2017-08-01 00:17:27 +0000   \n",
       "2  2017-07-31 00:18:03 +0000   \n",
       "\n",
       "                                              source  \\\n",
       "0  <a href=\"http://twitter.com/download/iphone\" r...   \n",
       "1  <a href=\"http://twitter.com/download/iphone\" r...   \n",
       "2  <a href=\"http://twitter.com/download/iphone\" r...   \n",
       "\n",
       "                                                text  retweeted_status_id  \\\n",
       "0  This is Phineas. He's a mystical boy. Only eve...                  NaN   \n",
       "1  This is Tilly. She's just checking pup on you....                  NaN   \n",
       "2  This is Archie. He is a rare Norwegian Pouncin...                  NaN   \n",
       "\n",
       "   retweeted_status_user_id retweeted_status_timestamp  \\\n",
       "0                       NaN                        NaN   \n",
       "1                       NaN                        NaN   \n",
       "2                       NaN                        NaN   \n",
       "\n",
       "                                       expanded_urls  rating_numerator  \\\n",
       "0  https://twitter.com/dog_rates/status/892420643...                13   \n",
       "1  https://twitter.com/dog_rates/status/892177421...                13   \n",
       "2  https://twitter.com/dog_rates/status/891815181...                12   \n",
       "\n",
       "   rating_denominator     name doggo floofer pupper puppo  \n",
       "0                  10  Phineas  None    None   None  None  \n",
       "1                  10    Tilly  None    None   None  None  \n",
       "2                  10   Archie  None    None   None  None  "
      ]
     },
     "execution_count": 9,
     "metadata": {},
     "output_type": "execute_result"
    }
   ],
   "source": [
    "twitter_archive.head(3)"
   ]
  },
  {
   "cell_type": "code",
   "execution_count": null,
   "metadata": {},
   "outputs": [
    {
     "name": "stdout",
     "output_type": "stream",
     "text": [
      "<class 'pandas.core.frame.DataFrame'>\n",
      "RangeIndex: 2356 entries, 0 to 2355\n",
      "Data columns (total 17 columns):\n",
      "tweet_id                      2356 non-null int64\n",
      "in_reply_to_status_id         78 non-null float64\n",
      "in_reply_to_user_id           78 non-null float64\n",
      "timestamp                     2356 non-null object\n",
      "source                        2356 non-null object\n",
      "text                          2356 non-null object\n",
      "retweeted_status_id           181 non-null float64\n",
      "retweeted_status_user_id      181 non-null float64\n",
      "retweeted_status_timestamp    181 non-null object\n",
      "expanded_urls                 2297 non-null object\n",
      "rating_numerator              2356 non-null int64\n",
      "rating_denominator            2356 non-null int64\n",
      "name                          2356 non-null object\n",
      "doggo                         2356 non-null object\n",
      "floofer                       2356 non-null object\n",
      "pupper                        2356 non-null object\n",
      "puppo                         2356 non-null object\n",
      "dtypes: float64(4), int64(3), object(10)\n",
      "memory usage: 313.0+ KB\n"
     ]
    }
   ],
   "source": [
    "twitter_archive.info()"
   ]
  },
  {
   "cell_type": "code",
   "execution_count": null,
   "metadata": {},
   "outputs": [],
   "source": [
    "twitter_archive.text[200]"
   ]
  },
  {
   "cell_type": "code",
   "execution_count": null,
   "metadata": {},
   "outputs": [],
   "source": [
    "twitter_archive.source.value_counts()"
   ]
  },
  {
   "cell_type": "code",
   "execution_count": null,
   "metadata": {},
   "outputs": [],
   "source": [
    "twitter_archive.expanded_urls.sample(5)"
   ]
  },
  {
   "cell_type": "code",
   "execution_count": null,
   "metadata": {},
   "outputs": [],
   "source": [
    "twitter_archive.rating_numerator.value_counts()"
   ]
  },
  {
   "cell_type": "code",
   "execution_count": null,
   "metadata": {},
   "outputs": [],
   "source": [
    "twitter_archive.rating_denominator.value_counts()"
   ]
  },
  {
   "cell_type": "code",
   "execution_count": null,
   "metadata": {},
   "outputs": [],
   "source": [
    "twitter_archive[twitter_archive['rating_numerator'] > 20][['rating_numerator','rating_denominator']]"
   ]
  },
  {
   "cell_type": "code",
   "execution_count": null,
   "metadata": {},
   "outputs": [],
   "source": [
    "twitter_archive[(twitter_archive['doggo']=='None')&(twitter_archive['floofer']=='None')&(twitter_archive['pupper']=='None')&(twitter_archive['puppo']=='None')].shape[0]"
   ]
  },
  {
   "cell_type": "code",
   "execution_count": null,
   "metadata": {},
   "outputs": [],
   "source": [
    "image_predictions.head(3)"
   ]
  },
  {
   "cell_type": "code",
   "execution_count": null,
   "metadata": {},
   "outputs": [],
   "source": [
    "image_predictions.info()"
   ]
  },
  {
   "cell_type": "code",
   "execution_count": null,
   "metadata": {},
   "outputs": [],
   "source": [
    "image_predictions.img_num.value_counts()"
   ]
  },
  {
   "cell_type": "code",
   "execution_count": null,
   "metadata": {},
   "outputs": [],
   "source": [
    "twitter_archive[twitter_archive['name'].str.len() < 3]['name'].value_counts()"
   ]
  },
  {
   "cell_type": "markdown",
   "metadata": {},
   "source": [
    "####  quality issues\n",
    "- in `twitter_archive` dataset, `tweet_id` data type is int instead of str.\n",
    "- there are many missing values in `in_reply_to_status_id`, `in_reply_to_user_id`, `retweeted_status_id`, `retweeted_status_user_id`, and `retweeted_status_timestamp`columns in `twitter_archive` dataset, we can remove these columns.\n",
    "- `name` column in `twitter_archive` has strange names like(a, an, the, o)\n",
    "- `timestamp` column at `twitter_archive` dataset data type is object instead of datetime.\n",
    "- `text` column at `twitter_archive` dataset has a link to the tweet.\n",
    "- `source` column in `twitter_archive` dataset has html tag, we can extract the link from it.\n",
    "- `expanded_urls` column in `twitter_archive` has null values.\n",
    "- in `image_predictions` dataset, `tweet_id` data type is int instead of str.\n",
    "- `rating_numerator` column has outliers, and it's better to be float.\n",
    "- `rating_denominator` column has values not 10, I want all values equal 10 to drop this column.\n",
    "- remove the retweeted twitter\n",
    "\n",
    "#### tidiness issues\n",
    "- `doggo`,`floofer`,`pupper`,`puppo` columns should be one column `dog_kind`.\n",
    "- the three datasets should merged to be only one.\n",
    "- just 3 columns needed in `tweet_info` dataset (id_str,favorite_count,retweet_count)\n",
    "- create new colmun (`dog_species`) to store dog species that is the highest probability to be correct."
   ]
  },
  {
   "cell_type": "markdown",
   "metadata": {},
   "source": [
    "#### make a copy from the three dataset to clean."
   ]
  },
  {
   "cell_type": "code",
   "execution_count": null,
   "metadata": {},
   "outputs": [],
   "source": [
    "twitter_archive_clean = twitter_archive.copy()\n",
    "tweet_info_clean = tweet_info.copy()\n",
    "image_predictions_clean = image_predictions.copy()"
   ]
  },
  {
   "cell_type": "markdown",
   "metadata": {},
   "source": [
    "### (3) clean"
   ]
  },
  {
   "cell_type": "markdown",
   "metadata": {},
   "source": [
    "####  quality\n"
   ]
  },
  {
   "cell_type": "markdown",
   "metadata": {},
   "source": [
    "#### define\n",
    "convert the data type of `tweet_id` in `twitter_archive` dataset to str."
   ]
  },
  {
   "cell_type": "markdown",
   "metadata": {},
   "source": [
    "#### code"
   ]
  },
  {
   "cell_type": "code",
   "execution_count": null,
   "metadata": {},
   "outputs": [],
   "source": [
    "twitter_archive_clean['tweet_id'] = twitter_archive_clean['tweet_id'].astype(str)"
   ]
  },
  {
   "cell_type": "markdown",
   "metadata": {},
   "source": [
    "#### test"
   ]
  },
  {
   "cell_type": "code",
   "execution_count": null,
   "metadata": {},
   "outputs": [],
   "source": [
    "twitter_archive_clean.info()"
   ]
  },
  {
   "cell_type": "markdown",
   "metadata": {},
   "source": [
    "#### define\n",
    "- drop `in_reply_to_status_id`, `in_reply_to_user_id`, `retweeted_status_user_id`, and `retweeted_status_timestamp`columns in `twitter_archive` dataset."
   ]
  },
  {
   "cell_type": "markdown",
   "metadata": {},
   "source": [
    "#### code"
   ]
  },
  {
   "cell_type": "code",
   "execution_count": null,
   "metadata": {},
   "outputs": [],
   "source": [
    "twitter_archive_clean.drop(['in_reply_to_status_id',\n",
    "                            'in_reply_to_user_id',\n",
    "                            'retweeted_status_user_id',\n",
    "                            'retweeted_status_timestamp'], axis=1, inplace=True)"
   ]
  },
  {
   "cell_type": "markdown",
   "metadata": {},
   "source": [
    "#### test"
   ]
  },
  {
   "cell_type": "code",
   "execution_count": null,
   "metadata": {},
   "outputs": [],
   "source": [
    "twitter_archive_clean.info()"
   ]
  },
  {
   "cell_type": "markdown",
   "metadata": {},
   "source": [
    "#### define \n",
    "convert the data type of `timestamp` column at `twitter_archive` dataset to datetime."
   ]
  },
  {
   "cell_type": "markdown",
   "metadata": {},
   "source": [
    "#### code"
   ]
  },
  {
   "cell_type": "code",
   "execution_count": null,
   "metadata": {},
   "outputs": [],
   "source": [
    "twitter_archive_clean['timestamp'] = pd.to_datetime(twitter_archive_clean['timestamp'])"
   ]
  },
  {
   "cell_type": "markdown",
   "metadata": {},
   "source": [
    "#### test"
   ]
  },
  {
   "cell_type": "code",
   "execution_count": null,
   "metadata": {},
   "outputs": [],
   "source": [
    "twitter_archive_clean.info()"
   ]
  },
  {
   "cell_type": "markdown",
   "metadata": {},
   "source": [
    "#### define \n",
    "extract the link from `text` column at `twitter_archive` dataset and then remove this column and put the link in a new column called `tweet_url`."
   ]
  },
  {
   "cell_type": "markdown",
   "metadata": {},
   "source": [
    "#### code"
   ]
  },
  {
   "cell_type": "code",
   "execution_count": null,
   "metadata": {},
   "outputs": [],
   "source": [
    "twitter_archive_clean['tweet_url'] = twitter_archive_clean['text'].str.extract('(https://t.co/[A-z0-9_]+)')\n"
   ]
  },
  {
   "cell_type": "markdown",
   "metadata": {},
   "source": [
    "#### test"
   ]
  },
  {
   "cell_type": "code",
   "execution_count": null,
   "metadata": {},
   "outputs": [],
   "source": [
    "twitter_archive_clean.info()"
   ]
  },
  {
   "cell_type": "code",
   "execution_count": null,
   "metadata": {},
   "outputs": [],
   "source": [
    "twitter_archive_clean['tweet_url'].head()"
   ]
  },
  {
   "cell_type": "markdown",
   "metadata": {},
   "source": [
    "#### define \n",
    "extract the link from `source` column in `twitter_archive` dataset"
   ]
  },
  {
   "cell_type": "markdown",
   "metadata": {},
   "source": [
    "#### code"
   ]
  },
  {
   "cell_type": "code",
   "execution_count": null,
   "metadata": {},
   "outputs": [],
   "source": [
    "twitter_archive_clean['source'] = twitter_archive_clean['source'].str.extract('(http(s)?://[a-z]+\\.[a-z]+\\.?/?([a-z]+)?/?([a-z]+)?/?([a-z]+)?)')[0]"
   ]
  },
  {
   "cell_type": "markdown",
   "metadata": {},
   "source": [
    "#### test"
   ]
  },
  {
   "cell_type": "code",
   "execution_count": null,
   "metadata": {},
   "outputs": [],
   "source": [
    "twitter_archive_clean.source.unique()"
   ]
  },
  {
   "cell_type": "markdown",
   "metadata": {},
   "source": [
    "#### define \n",
    "drop null values in expanded_urls."
   ]
  },
  {
   "cell_type": "markdown",
   "metadata": {},
   "source": [
    "#### code"
   ]
  },
  {
   "cell_type": "code",
   "execution_count": null,
   "metadata": {},
   "outputs": [],
   "source": [
    "twitter_archive_clean = twitter_archive_clean.dropna(subset=['expanded_urls'])"
   ]
  },
  {
   "cell_type": "markdown",
   "metadata": {},
   "source": [
    "#### test"
   ]
  },
  {
   "cell_type": "code",
   "execution_count": null,
   "metadata": {},
   "outputs": [],
   "source": [
    "twitter_archive_clean['expanded_urls'].isna().sum()"
   ]
  },
  {
   "cell_type": "code",
   "execution_count": null,
   "metadata": {},
   "outputs": [],
   "source": [
    "twitter_archive_clean.info()"
   ]
  },
  {
   "cell_type": "markdown",
   "metadata": {},
   "source": [
    "#### define\n",
    "convert the data type of `tweet_id` column in `image_predictions` dataset to str"
   ]
  },
  {
   "cell_type": "markdown",
   "metadata": {},
   "source": [
    "#### code"
   ]
  },
  {
   "cell_type": "code",
   "execution_count": null,
   "metadata": {},
   "outputs": [],
   "source": [
    "image_predictions_clean['tweet_id'] = image_predictions_clean['tweet_id'].astype(str)"
   ]
  },
  {
   "cell_type": "markdown",
   "metadata": {},
   "source": [
    "#### test"
   ]
  },
  {
   "cell_type": "code",
   "execution_count": null,
   "metadata": {},
   "outputs": [],
   "source": [
    "image_predictions_clean.info()"
   ]
  },
  {
   "cell_type": "markdown",
   "metadata": {},
   "source": [
    "#### define\n",
    "- make all values in `rating_denominator` column equal 10 with respecting the corresponding `rating_numerator`\n",
    "- there is a correcting rating in `text` column, we can extract it using regular expression."
   ]
  },
  {
   "cell_type": "markdown",
   "metadata": {},
   "source": [
    "#### code"
   ]
  },
  {
   "cell_type": "code",
   "execution_count": null,
   "metadata": {},
   "outputs": [],
   "source": [
    "twitter_archive_clean[twitter_archive_clean['rating_denominator'] != 10][['text','rating_numerator','rating_denominator']]"
   ]
  },
  {
   "cell_type": "code",
   "execution_count": null,
   "metadata": {},
   "outputs": [],
   "source": [
    "pattern = \"\\s*(\\d+([.]\\d+)?([/]\\d+))\"\n",
    "def ratings(x):\n",
    "    return [m.group() for m in re.finditer(pattern, x)]\n",
    "\n",
    "def clean(rating_denominator, rating_numerator, text):\n",
    "    if rating_denominator > 10 and rating_denominator%10 == 0:\n",
    "        rating_numerator = round(rating_numerator/rating_denominator*10.0, 1)\n",
    "        rating_denominator = rating_denominator/rating_denominator*10\n",
    "        return pd.Series([rating_denominator, rating_numerator])\n",
    "    else:\n",
    "        rating = ratings(text)\n",
    "        if rating[-1].split('/')[1] == '10':\n",
    "            rating_denominator = 10\n",
    "            rating_numerator = round(float(rating[-1].split('/')[0]), 1)\n",
    "            return pd.Series([rating_denominator, rating_numerator])\n",
    "        else:\n",
    "            rating_numerator = round(rating_numerator/rating_denominator*10.0, 1)\n",
    "            rating_denominator = rating_denominator/rating_denominator*10\n",
    "            return pd.Series([rating_denominator, rating_numerator])\n",
    "    return pd.Series([rating_denominator, rating_numerator])"
   ]
  },
  {
   "cell_type": "code",
   "execution_count": null,
   "metadata": {},
   "outputs": [],
   "source": [
    "twitter_archive_clean[['rating_denominator', 'rating_numerator']] = twitter_archive_clean.apply(lambda row: clean(row['rating_denominator'], row['rating_numerator'], row['text']), axis=1)"
   ]
  },
  {
   "cell_type": "markdown",
   "metadata": {},
   "source": [
    "#### test"
   ]
  },
  {
   "cell_type": "code",
   "execution_count": null,
   "metadata": {},
   "outputs": [],
   "source": [
    "twitter_archive_clean['rating_denominator'].unique()"
   ]
  },
  {
   "cell_type": "markdown",
   "metadata": {},
   "source": [
    "#### Notice:\n",
    "- now all denominators is 10, so `rating_denominator` column is useless, we can remove it.\n",
    "- also `text` column is usless now, we can remove it."
   ]
  },
  {
   "cell_type": "code",
   "execution_count": null,
   "metadata": {},
   "outputs": [],
   "source": [
    "twitter_archive_clean.drop('rating_denominator', axis=1, inplace=True)\n",
    "twitter_archive_clean.drop('text', axis=1, inplace=True)"
   ]
  },
  {
   "cell_type": "markdown",
   "metadata": {},
   "source": [
    "#### define\n",
    "- `rating_numerator` column has outliers.\n",
    "- convert `rating_numerator` data type to float.\n",
    "- let's make any value exceeds 15 to be 15, and any value less than 3 to be 3.\n",
    "- because we removed `rating_denominator` column, I will change `rating_numerator` column name to be `rating` only "
   ]
  },
  {
   "cell_type": "code",
   "execution_count": null,
   "metadata": {},
   "outputs": [],
   "source": [
    "twitter_archive_clean['rating_numerator'] = twitter_archive_clean['rating_numerator'].astype(float)"
   ]
  },
  {
   "cell_type": "markdown",
   "metadata": {},
   "source": [
    "#### code"
   ]
  },
  {
   "cell_type": "code",
   "execution_count": null,
   "metadata": {},
   "outputs": [],
   "source": [
    "twitter_archive_clean['rating_numerator'].value_counts()"
   ]
  },
  {
   "cell_type": "code",
   "execution_count": null,
   "metadata": {},
   "outputs": [],
   "source": [
    "twitter_archive_clean.loc[twitter_archive_clean['rating_numerator'] > 15,'rating_numerator'] = 15\n",
    "twitter_archive_clean.loc[twitter_archive_clean['rating_numerator'] < 3,'rating_numerator'] = 3"
   ]
  },
  {
   "cell_type": "code",
   "execution_count": null,
   "metadata": {},
   "outputs": [],
   "source": [
    "twitter_archive_clean.rename(columns={'rating_numerator':'rating'}, inplace=True)"
   ]
  },
  {
   "cell_type": "markdown",
   "metadata": {},
   "source": [
    "#### test"
   ]
  },
  {
   "cell_type": "code",
   "execution_count": null,
   "metadata": {},
   "outputs": [],
   "source": [
    "twitter_archive_clean['rating'].value_counts()"
   ]
  },
  {
   "cell_type": "markdown",
   "metadata": {},
   "source": [
    "#### define\n",
    "replace invalid names with None"
   ]
  },
  {
   "cell_type": "markdown",
   "metadata": {},
   "source": [
    "#### code"
   ]
  },
  {
   "cell_type": "code",
   "execution_count": null,
   "metadata": {},
   "outputs": [],
   "source": [
    "# notice: correct names start with capital characters,\n",
    "#so we will replace all names that don't start with capital character\n",
    "twitter_archive_clean['name'][twitter_archive_clean['name'].str.match('[a-z]+')] = 'None'"
   ]
  },
  {
   "cell_type": "markdown",
   "metadata": {},
   "source": [
    "#### test"
   ]
  },
  {
   "cell_type": "code",
   "execution_count": null,
   "metadata": {},
   "outputs": [],
   "source": [
    "twitter_archive_clean['name'][twitter_archive_clean['name'].str.match('[a-z]+')]"
   ]
  },
  {
   "cell_type": "markdown",
   "metadata": {},
   "source": [
    "#### define\n",
    "remove the retweeted twitter"
   ]
  },
  {
   "cell_type": "markdown",
   "metadata": {},
   "source": [
    "#### code"
   ]
  },
  {
   "cell_type": "code",
   "execution_count": null,
   "metadata": {},
   "outputs": [],
   "source": [
    "twitter_archive_clean = twitter_archive_clean[twitter_archive_clean['retweeted_status_id'].isna()]"
   ]
  },
  {
   "cell_type": "markdown",
   "metadata": {},
   "source": [
    "#### test"
   ]
  },
  {
   "cell_type": "code",
   "execution_count": null,
   "metadata": {},
   "outputs": [],
   "source": [
    "twitter_archive_clean['retweeted_status_id'].unique()"
   ]
  },
  {
   "cell_type": "markdown",
   "metadata": {},
   "source": [
    "#### now we can drop `retweeted_status_id` column"
   ]
  },
  {
   "cell_type": "code",
   "execution_count": null,
   "metadata": {},
   "outputs": [],
   "source": [
    "twitter_archive_clean.drop('retweeted_status_id', axis=1, inplace=True)"
   ]
  },
  {
   "cell_type": "code",
   "execution_count": null,
   "metadata": {},
   "outputs": [],
   "source": [
    "twitter_archive_clean.info()"
   ]
  },
  {
   "cell_type": "code",
   "execution_count": null,
   "metadata": {},
   "outputs": [],
   "source": [
    "(twitter_archive_clean[twitter_archive_clean.expanded_urls.isna()].index == twitter_archive_clean[twitter_archive_clean.tweet_url.isna()].index ).all()"
   ]
  },
  {
   "cell_type": "code",
   "execution_count": null,
   "metadata": {},
   "outputs": [],
   "source": [
    "twitter_archive_clean.expanded_urls.head()"
   ]
  },
  {
   "cell_type": "markdown",
   "metadata": {},
   "source": [
    "#### tidiness\n",
    "- `doggo`,`floofer`,`pupper`,`puppo` columns should be one column `dog_kind`.\n",
    "- the three datasets should merged to be only one.\n",
    "- just 3 columns needed in `tweet_info` dataset (id_str,favorite_count,retweet_count)"
   ]
  },
  {
   "cell_type": "markdown",
   "metadata": {},
   "source": [
    "#### define\n",
    " make the 4 stages of dog in one column instead of 4."
   ]
  },
  {
   "cell_type": "code",
   "execution_count": null,
   "metadata": {},
   "outputs": [],
   "source": [
    "twitter_archive_clean['stage'] = twitter_archive_clean.apply(lambda row: ','.join([row['doggo'], row['floofer'], row['pupper'], row['puppo']]), axis=1).str.replace(',None','')\n",
    "twitter_archive_clean['stage'] = twitter_archive_clean['stage'].str.replace('None,','')"
   ]
  },
  {
   "cell_type": "code",
   "execution_count": null,
   "metadata": {},
   "outputs": [],
   "source": [
    "twitter_archive_clean.drop(['doggo', 'floofer', 'pupper', 'puppo'], axis=1, inplace=True)"
   ]
  },
  {
   "cell_type": "markdown",
   "metadata": {},
   "source": [
    "#### test"
   ]
  },
  {
   "cell_type": "code",
   "execution_count": null,
   "metadata": {},
   "outputs": [],
   "source": [
    "twitter_archive_clean.info()"
   ]
  },
  {
   "cell_type": "code",
   "execution_count": null,
   "metadata": {},
   "outputs": [],
   "source": [
    "twitter_archive_clean[twitter_archive_clean.stage.str.len()>7].stage"
   ]
  },
  {
   "cell_type": "markdown",
   "metadata": {},
   "source": [
    "#### define\n",
    "just 3 columns needed in `tweet_info` dataset (id_str,favorite_count,retweet_count)."
   ]
  },
  {
   "cell_type": "markdown",
   "metadata": {},
   "source": [
    "#### code"
   ]
  },
  {
   "cell_type": "code",
   "execution_count": null,
   "metadata": {},
   "outputs": [],
   "source": [
    "tweet_info_clean = tweet_info_clean[['id_str', 'favorite_count', 'retweet_count']]\n",
    "tweet_info_clean.rename(columns={'id_str':'tweet_id'}, inplace=True)"
   ]
  },
  {
   "cell_type": "markdown",
   "metadata": {},
   "source": [
    "#### test"
   ]
  },
  {
   "cell_type": "code",
   "execution_count": null,
   "metadata": {},
   "outputs": [],
   "source": [
    "tweet_info_clean.head()"
   ]
  },
  {
   "cell_type": "markdown",
   "metadata": {},
   "source": [
    "#### define\n",
    "concatenate the three datasets to be one."
   ]
  },
  {
   "cell_type": "markdown",
   "metadata": {},
   "source": [
    "#### code"
   ]
  },
  {
   "cell_type": "code",
   "execution_count": null,
   "metadata": {},
   "outputs": [],
   "source": [
    "twitter_archive_clean = twitter_archive_clean.merge(tweet_info_clean,\n",
    "                                                    left_on='tweet_id',\n",
    "                                                    right_on='tweet_id')\n",
    "twitter_archive_clean = twitter_archive_clean.merge(image_predictions_clean,\n",
    "                                                    left_on='tweet_id',\n",
    "                                                    right_on='tweet_id')"
   ]
  },
  {
   "cell_type": "markdown",
   "metadata": {},
   "source": [
    "#### test"
   ]
  },
  {
   "cell_type": "code",
   "execution_count": null,
   "metadata": {},
   "outputs": [],
   "source": [
    "twitter_archive_clean.head(3)"
   ]
  },
  {
   "cell_type": "code",
   "execution_count": null,
   "metadata": {},
   "outputs": [],
   "source": [
    "twitter_archive_clean.shape"
   ]
  },
  {
   "cell_type": "code",
   "execution_count": null,
   "metadata": {},
   "outputs": [],
   "source": [
    "# remove observations that aren't dogs\n",
    "twitter_archive_clean = twitter_archive_clean[((twitter_archive_clean['p1_dog'] == True) |\n",
    "                                               (twitter_archive_clean['p2_dog'] == True) |\n",
    "                                               (twitter_archive_clean['p3_dog'] == True))]"
   ]
  },
  {
   "cell_type": "code",
   "execution_count": null,
   "metadata": {},
   "outputs": [],
   "source": [
    "twitter_archive_clean.info()"
   ]
  },
  {
   "cell_type": "code",
   "execution_count": null,
   "metadata": {},
   "outputs": [],
   "source": [
    "twitter_archive_clean.head()"
   ]
  },
  {
   "cell_type": "code",
   "execution_count": null,
   "metadata": {},
   "outputs": [],
   "source": [
    "twitter_archive_clean.p1.nunique()"
   ]
  },
  {
   "cell_type": "markdown",
   "metadata": {},
   "source": [
    "#### define\n",
    "create new colmun (`dog_species`) to store dog species that is the highest probability to be correct."
   ]
  },
  {
   "cell_type": "markdown",
   "metadata": {},
   "source": [
    "#### code"
   ]
  },
  {
   "cell_type": "code",
   "execution_count": null,
   "metadata": {},
   "outputs": [],
   "source": [
    "def dog_species(row):\n",
    "    if row.p1_dog:\n",
    "        return row.p1\n",
    "    elif row.p2_dog:\n",
    "        return row.p2\n",
    "    else:\n",
    "        return row.p3\n",
    "twitter_archive_clean['dog_species'] = twitter_archive_clean.apply(lambda r:  dog_species(r), axis=1)"
   ]
  },
  {
   "cell_type": "markdown",
   "metadata": {},
   "source": [
    "#### test"
   ]
  },
  {
   "cell_type": "code",
   "execution_count": null,
   "metadata": {},
   "outputs": [],
   "source": [
    "twitter_archive_clean[['p1', 'p1_dog', 'p2', 'p2_dog', 'p3', 'p3_dog', 'dog_species']]"
   ]
  },
  {
   "cell_type": "markdown",
   "metadata": {},
   "source": [
    "### Storing, Analyzing, and Visualizing Data"
   ]
  },
  {
   "cell_type": "code",
   "execution_count": null,
   "metadata": {},
   "outputs": [],
   "source": [
    "twitter_archive_clean.to_csv('twitter_archive_master.csv', index=False)"
   ]
  },
  {
   "cell_type": "code",
   "execution_count": null,
   "metadata": {},
   "outputs": [],
   "source": [
    "df = pd.read_csv('twitter_archive_master.csv')\n",
    "df.head()"
   ]
  },
  {
   "cell_type": "markdown",
   "metadata": {},
   "source": [
    "### what is the most 10 frequently dogs species?"
   ]
  },
  {
   "cell_type": "code",
   "execution_count": null,
   "metadata": {},
   "outputs": [],
   "source": [
    "dog_species_df = df.groupby(['dog_species'], as_index=False)['tweet_id'].count().rename(columns={'tweet_id':'count'})\n",
    "most_dog_species_df = dog_species_df.sort_values('count', ascending=False).head(10)\n",
    "most_dog_species_df"
   ]
  },
  {
   "cell_type": "code",
   "execution_count": null,
   "metadata": {},
   "outputs": [],
   "source": [
    "plt.bar(most_dog_species_df.dog_species, most_dog_species_df['count'])\n",
    "plt.xticks(rotation=45, ha='right')\n",
    "plt.xlabel('Dog species')\n",
    "plt.ylabel('Number of tweets')\n",
    "plt.title('Dog species vs Number of tweets')"
   ]
  },
  {
   "cell_type": "markdown",
   "metadata": {},
   "source": [
    "### what is the least 10 frequently dogs species?"
   ]
  },
  {
   "cell_type": "code",
   "execution_count": null,
   "metadata": {},
   "outputs": [],
   "source": [
    "least_dog_species_df = dog_species_df.sort_values('count', ascending=True).head(10)\n",
    "least_dog_species_df"
   ]
  },
  {
   "cell_type": "markdown",
   "metadata": {},
   "source": [
    "### most rating"
   ]
  },
  {
   "cell_type": "code",
   "execution_count": null,
   "metadata": {},
   "outputs": [],
   "source": [
    "df.rating.value_counts()"
   ]
  },
  {
   "cell_type": "code",
   "execution_count": null,
   "metadata": {},
   "outputs": [],
   "source": [
    "plt.hist(df.rating, bins=13)\n",
    "plt.xlabel('Rating')\n",
    "plt.ylabel('Count')\n",
    "plt.title('Count of each Rating')"
   ]
  },
  {
   "cell_type": "code",
   "execution_count": null,
   "metadata": {},
   "outputs": [],
   "source": [
    "df.head()"
   ]
  },
  {
   "cell_type": "markdown",
   "metadata": {},
   "source": [
    "### which is the tweet that has the most favorite_count?"
   ]
  },
  {
   "cell_type": "code",
   "execution_count": null,
   "metadata": {},
   "outputs": [],
   "source": [
    "max_favorite_count = df[df.favorite_count == df.favorite_count.max()]\n",
    "max_favorite_count"
   ]
  },
  {
   "cell_type": "markdown",
   "metadata": {},
   "source": [
    "### the image with the highest favorite_count"
   ]
  },
  {
   "cell_type": "code",
   "execution_count": null,
   "metadata": {},
   "outputs": [],
   "source": [
    "r = requests.get(max_favorite_count.jpg_url.values[0])\n",
    "i = Image.open(BytesIO(r.content))\n",
    "i"
   ]
  },
  {
   "cell_type": "markdown",
   "metadata": {},
   "source": [
    "### which is the tweet that has the most retweet_count?"
   ]
  },
  {
   "cell_type": "code",
   "execution_count": null,
   "metadata": {},
   "outputs": [],
   "source": [
    "max_retweet_count = df[df.retweet_count == df.retweet_count.max()]\n",
    "max_retweet_count"
   ]
  },
  {
   "cell_type": "markdown",
   "metadata": {},
   "source": [
    "### the image with the highest retweet_count"
   ]
  },
  {
   "cell_type": "code",
   "execution_count": null,
   "metadata": {},
   "outputs": [],
   "source": [
    "r = requests.get(max_retweet_count.jpg_url.values[0])\n",
    "i = Image.open(BytesIO(r.content))\n",
    "i"
   ]
  },
  {
   "cell_type": "code",
   "execution_count": null,
   "metadata": {},
   "outputs": [],
   "source": [
    "most_dog_species_df.dog_species.values"
   ]
  },
  {
   "cell_type": "markdown",
   "metadata": {},
   "source": [
    "### insights"
   ]
  },
  {
   "cell_type": "markdown",
   "metadata": {},
   "source": [
    "- the most 10 frequently dog species is ('golden_retriever', 'Labrador_retriever', 'Pembroke', 'Chihuahua', 'pug', 'toy_poodle', 'chow', 'Pomeranian', 'Samoyed', 'malamute').\n",
    "\n",
    "\n",
    "- the least 10 frequently dog species is ('Scotch_terrier', 'standard_schnauzer', 'silky_terrier', 'clumber', 'Japanese_spaniel', 'Irish_wolfhound', 'EntleBucher', 'Bouvier_des_Flandres', 'groenendael', 'black-and-tan_coonhound').\n",
    "\n",
    "\n",
    "- the tweet that have the tweet_id = '822872901745569793', has the most favorite_count that equal 132810 \t\n",
    "\n",
    "\n",
    "- the tweet that have the tweet_id = '744234799360020481', has the most retweet_count that equal 131075"
   ]
  },
  {
   "cell_type": "code",
   "execution_count": null,
   "metadata": {},
   "outputs": [],
   "source": []
  }
 ],
 "metadata": {
  "kernelspec": {
   "display_name": "Python 3",
   "language": "python",
   "name": "python3"
  },
  "language_info": {
   "codemirror_mode": {
    "name": "ipython",
    "version": 3
   },
   "file_extension": ".py",
   "mimetype": "text/x-python",
   "name": "python",
   "nbconvert_exporter": "python",
   "pygments_lexer": "ipython3",
   "version": "3.6.3"
  }
 },
 "nbformat": 4,
 "nbformat_minor": 2
}
